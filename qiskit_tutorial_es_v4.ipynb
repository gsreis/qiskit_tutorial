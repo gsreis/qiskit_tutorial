{
  "cells": [
    {
      "cell_type": "markdown",
      "source": [
        "# Taller Introductorio a Qiskit con IBM Quantum\n",
        "\n",
        "por José L Rodríguez y Leonardo Zubieta\n",
        "Basado en contenido de Glauco Dos Santos"
      ],
      "metadata": {
        "id": "KNGAt0J-uWZg"
      },
      "id": "KNGAt0J-uWZg"
    },
    {
      "cell_type": "code",
      "execution_count": null,
      "id": "Z3ZPX7TajFck",
      "metadata": {
        "id": "Z3ZPX7TajFck"
      },
      "outputs": [],
      "source": [
        "!pip install qiskit\n",
        "!pip install qiskit_aer\n",
        "!pip install pylatexenc\n",
        "!pip install qiskit_ibm_runtime"
      ]
    },
    {
      "cell_type": "markdown",
      "id": "2c082be3",
      "metadata": {
        "id": "2c082be3"
      },
      "source": [
        "# Definición de librerías\n",
        "## OBS - Necesario para Google Colab"
      ]
    },
    {
      "cell_type": "code",
      "execution_count": null,
      "id": "04bd5459",
      "metadata": {
        "id": "04bd5459"
      },
      "outputs": [],
      "source": [
        "from qiskit import QuantumRegister, ClassicalRegister, QuantumCircuit\n",
        "from qiskit.circuit.library import *\n",
        "from qiskit.visualization import plot_bloch_multivector\n",
        "from qiskit.visualization import plot_bloch_vector\n",
        "from qiskit_aer import Aer\n",
        "from qiskit.visualization import plot_bloch_multivector\n",
        "import math\n",
        "import qiskit\n",
        "from qiskit import qasm3\n",
        "from qiskit.quantum_info import state_fidelity\n",
        "from qiskit.quantum_info import DensityMatrix\n",
        "from qiskit.visualization import plot_state_qsphere\n",
        "from qiskit import transpile\n",
        "from qiskit.visualization import plot_state_city, plot_histogram\n",
        "from qiskit.providers.basic_provider import BasicSimulator\n",
        "from qiskit import QuantumCircuit\n",
        "from qiskit_aer import AerSimulator\n",
        "from qiskit.quantum_info import Statevector\n",
        "\n",
        "from qiskit.circuit.library import GroverOperator, MCMT, ZGate\n",
        "from qiskit.visualization import plot_distribution\n",
        "\n",
        "# Imports from Qiskit Runtime\n",
        "from qiskit_ibm_runtime import QiskitRuntimeService\n",
        "from qiskit_ibm_runtime import SamplerV2 as Sampler"
      ]
    },
    {
      "cell_type": "markdown",
      "id": "3702a33a",
      "metadata": {
        "id": "3702a33a"
      },
      "source": [
        "## Versión de Qiskit usada en este laboratorío"
      ]
    },
    {
      "cell_type": "code",
      "execution_count": null,
      "id": "c9836c12",
      "metadata": {
        "id": "c9836c12",
        "scrolled": false
      },
      "outputs": [],
      "source": [
        "qiskit.__version__"
      ]
    },
    {
      "cell_type": "markdown",
      "id": "f8a0bfb8",
      "metadata": {
        "id": "f8a0bfb8"
      },
      "source": [
        "## Ejemplo 1. Esfera de Bloch\n",
        "\n",
        "\n",
        "Un **QUBIT** es equivalente a un **BIT** en la computación clásica, pero a diferencia de un bit que puede tener solo dos estados, un computador cuántico puede tener múltiples estados simultaneamente. Al leerlo, un qubit tiene dos estados estables, definidos como 0 y 1. Por lo tanto, es imposible \"verificar\" si un qubit está en superposición.\n",
        "\n",
        "**Observación:** Modifica el código a continuación para expresar diferentes posiciones en BlockSphere. Intenta rotar en X, Y y Z para explorar diferentes posiciones."
      ]
    },
    {
      "cell_type": "code",
      "execution_count": null,
      "id": "da3c85d9",
      "metadata": {
        "id": "da3c85d9",
        "scrolled": true
      },
      "outputs": [],
      "source": [
        "qc = QuantumCircuit(1,1)\n",
        "qc.h(0)\n",
        "#qc.rx(math.pi / 8 , 0)\n",
        "#qc.rz(math.pi /2, 0)\n",
        "#qc.ry(math.pi / 2, 0)\n",
        "#qc.draw(output='mpl',style={'backgroundcolor': '#EEEEEE'})\n",
        "plot_bloch_multivector(qc)"
      ]
    },
    {
      "cell_type": "markdown",
      "id": "fe7d27ab",
      "metadata": {
        "id": "fe7d27ab"
      },
      "source": [
        "## Ejemplo 1.1. Cambio de estado por rotación\n",
        "Cada una de las instrucciones permite rotaciones alrededor de los ejes. Tenemos instrucciones para rotar en los ejes X, Y y Z.\n",
        "\n",
        "**Observación:** Observa que después de poner en superposición, podemos usar el eje Z para rotar y hacer operaciones aritméticas usando ángulos."
      ]
    },
    {
      "cell_type": "code",
      "execution_count": null,
      "id": "008a759f",
      "metadata": {
        "id": "008a759f"
      },
      "outputs": [],
      "source": [
        "qc = QuantumCircuit(1,1)\n",
        "qc.rz(math.pi / 4, 0)\n",
        "plot_bloch_multivector(qc)"
      ]
    },
    {
      "cell_type": "markdown",
      "id": "bbe432b3",
      "metadata": {
        "id": "bbe432b3"
      },
      "source": [
        "## Ejemplo 1.2. ¿Qué estado tendrá este qubit al medirlo?\n",
        "Observa que se puede realizar cualquier posición, pero al leerla, el QUBIT pasa a uno de los estados estables."
      ]
    },
    {
      "cell_type": "code",
      "execution_count": null,
      "id": "3a9d1f08",
      "metadata": {
        "id": "3a9d1f08",
        "scrolled": true
      },
      "outputs": [],
      "source": [
        "qc = QuantumCircuit(1,1)\n",
        "qc.rx(math.pi / 2, 0)\n",
        "qc.rz(3 * math.pi/2, 0)\n",
        "plot_bloch_multivector(qc)"
      ]
    },
    {
      "cell_type": "markdown",
      "id": "bc4b01ae",
      "metadata": {
        "id": "bc4b01ae"
      },
      "source": [
        "## Ejemplo 2. Circuitos cuánticos\n",
        "Explora la construcción de un circuito cuántico. Podemos definir el tamaño de registro para QUBITS y BITS clasicos donde se almacena el resultado de la medición."
      ]
    },
    {
      "cell_type": "code",
      "execution_count": null,
      "id": "2e13d0b9",
      "metadata": {
        "id": "2e13d0b9",
        "scrolled": true
      },
      "outputs": [],
      "source": [
        "from qiskit import *\n",
        "from qiskit.providers.basic_provider import BasicSimulator\n",
        "from qiskit import QuantumCircuit\n",
        "\n",
        "q = QuantumRegister(1)\n",
        "c = ClassicalRegister(1)\n",
        "qc = QuantumCircuit(q, c)\n",
        "qc.h(0)\n",
        "qc.x(0)\n",
        "qc.measure(0,0)\n",
        "qc.draw(output='mpl')\n"
      ]
    },
    {
      "cell_type": "markdown",
      "id": "2328c4b6",
      "metadata": {
        "id": "2328c4b6"
      },
      "source": [
        "## Ejemplo 2.1 - Compuerta X - NOT\n",
        "Recuerde que al principio todos los valores son 0 para los QUBITS. Es posible invertirlos para obtener 1 en su lugar."
      ]
    },
    {
      "cell_type": "code",
      "execution_count": null,
      "id": "9e376d8a",
      "metadata": {
        "id": "9e376d8a"
      },
      "outputs": [],
      "source": [
        "qc = QuantumCircuit(1)\n",
        "qc.x(0)\n",
        "qc.measure_all()\n",
        "qc.draw(output='mpl')"
      ]
    },
    {
      "cell_type": "markdown",
      "id": "64d9e8ec",
      "metadata": {
        "id": "64d9e8ec"
      },
      "source": [
        "## Ejemplo 2.2. Compuerta Hadamard y mediciones\n",
        "Con una compuerta Hadamard (H) altera el estado de un qubit desde para tener la misma probabilidad de tener 0 y 1 al momento de una lectura. Para comprobarlo ejecutamos una medición con la compuerta \"measure\" o \"measure_all\" y enviamos por ahora a un simulador cuántico.\n",
        "\n",
        "##### Nota: Para realizar mediciones por ahora usamos un simulador de un sistema cuántico. En Qiskit puedes modelar parámetros de un sistema (por ejemplo el ruido) antes de enviarlo a un sistema real.\n"
      ]
    },
    {
      "cell_type": "code",
      "execution_count": null,
      "id": "66ae1b31",
      "metadata": {
        "id": "66ae1b31",
        "scrolled": true
      },
      "outputs": [],
      "source": [
        "circ = QuantumCircuit(1)\n",
        "circ.h(0)\n",
        "circ.measure_all()\n",
        "simulator = BasicSimulator()\n",
        "result = simulator.run(circ).result()\n",
        "counts = result.get_counts()\n",
        "print(counts)"
      ]
    },
    {
      "cell_type": "markdown",
      "id": "2e818d69",
      "metadata": {
        "id": "2e818d69"
      },
      "source": [
        "**Observación:** Los BITS clásicos solo pueden tener valores 0 o 1."
      ]
    },
    {
      "cell_type": "markdown",
      "id": "25d2d160",
      "metadata": {
        "id": "25d2d160"
      },
      "source": [
        "## Ejemplo 3. Entrelazado y visualización\n",
        "El **entrelazamiento** involucra una operación con más de un QUBIT. Es importante para simular otras puertas lógicas y para muchos calculos."
      ]
    },
    {
      "cell_type": "code",
      "execution_count": null,
      "id": "59d16962",
      "metadata": {
        "id": "59d16962",
        "scrolled": true
      },
      "outputs": [],
      "source": [
        "from qiskit.providers.basic_provider import BasicSimulator\n",
        "from qiskit import QuantumCircuit\n",
        "\n",
        "circ = QuantumCircuit(2,2)\n",
        "circ.h(0)\n",
        "circ.cx(0,1)\n",
        "circ.measure(0,0)\n",
        "circ.measure(1,1)\n",
        "circ.draw(output='mpl')"
      ]
    },
    {
      "cell_type": "code",
      "source": [
        "simulator = BasicSimulator()\n",
        "result = simulator.run(circ).result()\n",
        "counts = result.get_counts()\n",
        "print(counts)"
      ],
      "metadata": {
        "id": "MuQJUqBDXO3A"
      },
      "id": "MuQJUqBDXO3A",
      "execution_count": null,
      "outputs": []
    },
    {
      "cell_type": "markdown",
      "source": [
        "## Ejemplo 3.1. ¿Qué estado tendrá este experimento?\n",
        "El **entrelazamiento** involucra una operación con más de un QUBIT. Es importante para simular otras puertas lógicas y para muchos calculos."
      ],
      "metadata": {
        "id": "sJ9z7nl8cv5m"
      },
      "id": "sJ9z7nl8cv5m"
    },
    {
      "cell_type": "code",
      "execution_count": null,
      "id": "2d013ddf",
      "metadata": {
        "id": "2d013ddf",
        "scrolled": true
      },
      "outputs": [],
      "source": [
        "from qiskit.providers.basic_provider import BasicSimulator\n",
        "from qiskit import QuantumCircuit\n",
        "\n",
        "circ = QuantumCircuit(2)\n",
        "circ.h(0)\n",
        "circ.h(1)\n",
        "circ.measure_all()\n",
        "circ.draw(output='mpl')"
      ]
    },
    {
      "cell_type": "code",
      "source": [
        "# Ejecuta el experimento del circuito anterior indicando la cantidad de\n",
        "# mediciones o shots\n",
        "simulator = BasicSimulator()\n",
        "result = simulator.run(circ, shots=2000).result()\n",
        "counts = result.get_counts()\n",
        "print(counts)"
      ],
      "metadata": {
        "id": "5rPgKlAQcPHC"
      },
      "id": "5rPgKlAQcPHC",
      "execution_count": null,
      "outputs": []
    },
    {
      "cell_type": "markdown",
      "id": "36a09a07",
      "metadata": {
        "id": "36a09a07"
      },
      "source": [
        "## Ejemplo 5. Rotaciones\n",
        "Rotando en los ejes X, Y y Z puedes tener posibilidades de representar estados distintos. Un sistema de cómputo cuántico tiene la capacidad de alterar o controlar el estado sus qubits mediante métodos físicos."
      ]
    },
    {
      "cell_type": "code",
      "execution_count": null,
      "id": "ff96287f",
      "metadata": {
        "id": "ff96287f",
        "scrolled": false
      },
      "outputs": [],
      "source": [
        "qc = QuantumCircuit(6)\n",
        "qc.x(0)\n",
        "qc.y(1)\n",
        "qc.z(2)\n",
        "qc.rx(math.pi /4, 3)\n",
        "qc.ry(math.pi /2, 4)\n",
        "qc.rz(math.pi * 2, 5)\n",
        "qc.draw(output='mpl')\n",
        "plot_bloch_multivector(qc)"
      ]
    },
    {
      "cell_type": "code",
      "source": [
        "# Ejecuta el experimento del circuito anterior indicando la cantidad de\n",
        "# mediciones o shots\n",
        "qc.measure_all()\n",
        "simulator = BasicSimulator()\n",
        "result = simulator.run(qc).result()\n",
        "counts = result.get_counts()\n",
        "print(counts)"
      ],
      "metadata": {
        "id": "aNc1rJT8eTco"
      },
      "id": "aNc1rJT8eTco",
      "execution_count": null,
      "outputs": []
    },
    {
      "cell_type": "markdown",
      "id": "27909c25",
      "metadata": {
        "id": "27909c25"
      },
      "source": [
        "## Ejemplo 6. Compuertas multi-qubit\n",
        "Las compuertas multi-qubit permiten manipular el estado del sistema cuantico de formas más complejas."
      ]
    },
    {
      "cell_type": "code",
      "execution_count": null,
      "id": "3d743198",
      "metadata": {
        "id": "3d743198",
        "scrolled": true
      },
      "outputs": [],
      "source": [
        "qc = QuantumCircuit(3)\n",
        "qc.cx(0, 1)\n",
        "qc.cy(0,1)\n",
        "qc.cz(0,1)\n",
        "qc.swap(0,1)\n",
        "qc.ccx(0,1,2)\n",
        "qc.ch(0,1)\n",
        "qc.draw(output='mpl')"
      ]
    },
    {
      "cell_type": "markdown",
      "id": "65b1f26d",
      "metadata": {
        "id": "65b1f26d"
      },
      "source": [
        "## Ejemplo 7. Compuertas lógicas equivalentes (NAND)\n",
        "Con los QUBITS es posible construir cualquier compuerta de una computadora clásica. Por ejemplo, este circuito es equivalente a una puerta NAND"
      ]
    },
    {
      "cell_type": "code",
      "execution_count": null,
      "id": "8f534eab",
      "metadata": {
        "id": "8f534eab",
        "scrolled": false
      },
      "outputs": [],
      "source": [
        "qc = QuantumCircuit(3)\n",
        "# qc.ccx(0, 1, 2)\n",
        "# qc.x(2)\n",
        "#qc.cx(0,1)\n",
        "#qc.x(0)\n",
        "qc.x([0,1])\n",
        "qc.ccx(0,1,2)\n",
        "qc.x(2)\n",
        "qc.draw(output='mpl')"
      ]
    },
    {
      "cell_type": "markdown",
      "id": "0947a8f6",
      "metadata": {
        "id": "0947a8f6"
      },
      "source": [
        "## Ejemplo 7. Suma con Circuitos cuánticos. Inicializando estado.\n",
        "Puedes SUMAR dos números A y B usando QUBITS."
      ]
    },
    {
      "cell_type": "code",
      "execution_count": null,
      "id": "b40fed47",
      "metadata": {
        "id": "b40fed47"
      },
      "outputs": [],
      "source": [
        "# Suma A = A + B\n",
        "a1 = QuantumRegister(1, \"A1\")\n",
        "a2 = QuantumRegister(1, \"A2\")\n",
        "b1 = QuantumRegister(1, \"B1\")\n",
        "b2 = QuantumRegister(1, \"B2\")\n",
        "suma1 = ClassicalRegister(1,\"suma0\")\n",
        "suma2 = ClassicalRegister(1,\"suma1\")\n",
        "qc = QuantumCircuit(a1,a2,b1,b2,suma1, suma2)\n",
        "\n",
        "#qc.x(a1)\n",
        "# qc.x(a2)\n",
        "#qc.x(b1)\n",
        "# qc.x(b1)\n",
        "# qc.x(b1)\n",
        "\n",
        "# Valores iniciales\n",
        "sv_inicial = Statevector.from_label('0101')\n",
        "qc.initialize(sv_inicial)\n",
        "\n",
        "\n",
        "qc.ccx(a1,b1,a2)\n",
        "qc.cx(b1,a1)\n",
        "qc.cx(b2,a2)\n",
        "\n",
        "qc.measure(a1,suma1)\n",
        "qc.measure(a2,suma2)\n",
        "\n",
        "qc.draw(output='mpl',style={'backgroundcolor': '#EEEEEE'})"
      ]
    },
    {
      "cell_type": "code",
      "source": [
        "#Corre el experimento del circuito anterior\n",
        "simulator = AerSimulator()\n",
        "result = simulator.run(qc).result()\n",
        "counts = result.get_counts()\n",
        "print(counts)"
      ],
      "metadata": {
        "id": "SgutbI2eAcgX"
      },
      "id": "SgutbI2eAcgX",
      "execution_count": null,
      "outputs": []
    },
    {
      "cell_type": "markdown",
      "id": "1a33c843",
      "metadata": {
        "id": "1a33c843"
      },
      "source": [
        "## Ejemplo 8. Superposición para numeros aleatorios\n",
        "Uno de los usos reales de los QUBIT es la superposición para generar números aleatorios."
      ]
    },
    {
      "cell_type": "code",
      "execution_count": null,
      "id": "947426b6",
      "metadata": {
        "id": "947426b6",
        "scrolled": true
      },
      "outputs": [],
      "source": [
        "qcSuper = QuantumCircuit(4)\n",
        "qcSuper.h(0)\n",
        "qcSuper.h(1)\n",
        "qcSuper.h(2)\n",
        "qcSuper.h(3)\n",
        "qcSuper.measure_all()\n",
        "qcSuper.draw(output='mpl',style={'backgroundcolor': '#EEEEEE'})"
      ]
    },
    {
      "cell_type": "code",
      "source": [
        "#Corre el experimento del circuito anterior\n",
        "simulator = AerSimulator()\n",
        "result = simulator.run(qcSuper).result()\n",
        "counts = result.get_counts()\n",
        "print(counts)"
      ],
      "metadata": {
        "id": "qrJ6lWbkEJ9-"
      },
      "id": "qrJ6lWbkEJ9-",
      "execution_count": null,
      "outputs": []
    },
    {
      "cell_type": "markdown",
      "id": "131469b7",
      "metadata": {
        "id": "131469b7"
      },
      "source": [
        "## (opcional) Ejemplo 9 - Quantum Fourier Transform (QFT)\n",
        "La QFT utiliza una superposición para iniciar la rotación en el EJE Z y generar valores que representan ángulos y luego armónicos separados de una señal de entrada. Hay muchos temas para explorar en esta representación."
      ]
    },
    {
      "cell_type": "code",
      "execution_count": null,
      "id": "cabb78e0",
      "metadata": {
        "id": "cabb78e0"
      },
      "outputs": [],
      "source": [
        "qc = QuantumCircuit(3)\n",
        "qc.h(0)\n",
        "qc.h(1)\n",
        "qc.h(2)\n",
        "\n",
        "qc.rz(math.pi /2, 0)\n",
        "qc.rz(math.pi ,    1)\n",
        "qc.rz(math.pi * 2, 2)\n",
        "\n",
        "\n",
        "qc.h(2)\n",
        "qc.crz(math.pi/2, 2, 1)\n",
        "qc.crz(math.pi/4, 2, 0)\n",
        "qc.h(1)\n",
        "qc.crz(math.pi * 2, 1, 0)\n",
        "qc.h(0)\n",
        "qc.draw(output='mpl',style={'backgroundcolor': '#EEEEEE'})\n",
        "#plot_bloch_multivector(qc)"
      ]
    },
    {
      "cell_type": "markdown",
      "source": [
        "# Ejemplo 9.1. Ejecución en un sistema cuántico real de IBM Quantum\n",
        "Toma tu token de (https://quantum.ibm.com/) copialo y ponlo entre comillas en la variable token.\n",
        "\n",
        "Si aun no tienes cuenta en IBM Cloud (IBM ID) registrate en: https://cloud.ibm.com/registration\n",
        "\n",
        "Es posible que tengas que crear antes tu Qiskit Runtime en una cuenta de IBM Cloud: https://cloud.ibm.com/docs/quantum-computing?topic=quantum-computing-get-started"
      ],
      "metadata": {
        "id": "2-DBbd3yh7y3"
      },
      "id": "2-DBbd3yh7y3"
    },
    {
      "cell_type": "code",
      "source": [
        "service = QiskitRuntimeService(channel=\"ibm_quantum\", token=\"TuToken\")"
      ],
      "metadata": {
        "id": "cie4vKxli00a"
      },
      "id": "cie4vKxli00a",
      "execution_count": null,
      "outputs": []
    },
    {
      "cell_type": "markdown",
      "source": [
        "Elegimos el sistema cuántico menos utilizado de IBM para correr nuestro circuito"
      ],
      "metadata": {
        "id": "hw1yca8VjWky"
      },
      "id": "hw1yca8VjWky"
    },
    {
      "cell_type": "code",
      "source": [
        "backend = service.least_busy(operational=True, simulator=False)\n",
        "backend.name"
      ],
      "metadata": {
        "id": "oCjbitLGjFq0"
      },
      "id": "oCjbitLGjFq0",
      "execution_count": null,
      "outputs": []
    },
    {
      "cell_type": "markdown",
      "source": [
        "Optimizamos nuestro último circuito para correrlo en el sistema elegido"
      ],
      "metadata": {
        "id": "Yzfk-oT8jwA6"
      },
      "id": "Yzfk-oT8jwA6"
    },
    {
      "cell_type": "code",
      "source": [
        "from qiskit.transpiler.preset_passmanagers import generate_preset_pass_manager\n",
        "\n",
        "target = backend.target\n",
        "pm = generate_preset_pass_manager(target=target, optimization_level=3)\n",
        "\n",
        "circuit_isa = pm.run(qcSuper)\n",
        "circuit_isa.draw(output=\"mpl\", idle_wires=False, style=\"iqp\")"
      ],
      "metadata": {
        "id": "RqH_hLZUj4yp"
      },
      "id": "RqH_hLZUj4yp",
      "execution_count": null,
      "outputs": []
    },
    {
      "cell_type": "markdown",
      "source": [
        "Ejecutamos el circuito en el sistema real"
      ],
      "metadata": {
        "id": "rLZDiVcgk0fA"
      },
      "id": "rLZDiVcgk0fA"
    },
    {
      "cell_type": "code",
      "source": [
        "# Usamos primitivos de Qiskit para simplificar el código y la ejecución.\n",
        "# En este caso uno de tipo Sampler. Como queremos ver una distribución de\n",
        "# mediciones usamos un primitivo Sampler.\n",
        "sampler = Sampler(mode=backend)\n",
        "sampler.options.default_shots = 10_000\n",
        "result = sampler.run([circuit_isa]).result()\n",
        "dist = result[0].data.meas.get_counts()"
      ],
      "metadata": {
        "id": "wxWyejKjk0zD"
      },
      "id": "wxWyejKjk0zD",
      "execution_count": null,
      "outputs": []
    },
    {
      "cell_type": "markdown",
      "source": [
        "Presentamos resultados del hardware cuántico real"
      ],
      "metadata": {
        "id": "Crg-8-Lip2Fb"
      },
      "id": "Crg-8-Lip2Fb"
    },
    {
      "cell_type": "code",
      "source": [
        "plot_distribution(dist)"
      ],
      "metadata": {
        "id": "HdjkPUTop4UY"
      },
      "id": "HdjkPUTop4UY",
      "execution_count": null,
      "outputs": []
    },
    {
      "cell_type": "markdown",
      "id": "d7698361",
      "metadata": {
        "id": "d7698361"
      },
      "source": [
        "## Ejemplo 10. Mapa de Qubits\n",
        "Qiskit puede soportar muchas implementaciones de hardware. Para ello, es posible definir la topología de los QUBIT para un hardware en particular. A esto lo llamamos MAP. Este es un ejemplo de MAP utilizado para representar un hardware específico."
      ]
    },
    {
      "cell_type": "code",
      "execution_count": null,
      "id": "27deda26",
      "metadata": {
        "id": "27deda26"
      },
      "outputs": [],
      "source": [
        "from qiskit.visualization import plot_coupling_map\n",
        "num_qubits = 10\n",
        "\n",
        "coupling_map = [[0,1],[1,3],[0,2],[2,4],[4,6], [6,8], [3,5], [5,7],[7,9], [4,5], [8,9]]\n",
        "# conexiones entre QUBITS\n",
        "qubit_coordinates = [[0,1], [1, 2], [0, 3], [1, 4], [0,5], [1,6], [0,7], [1,8], [0,9], [1,10]]\n",
        "# capa\n",
        "plot_coupling_map(num_qubits, qubit_coordinates, coupling_map)"
      ]
    },
    {
      "cell_type": "markdown",
      "id": "09e03eb2",
      "metadata": {
        "id": "09e03eb2"
      },
      "source": [
        "## Ejemplo 11. Descomposición\n",
        "Hay algunas instrucciones que no se pueden representar en ciertos sistemas de hardware. Es posible descomponer un circuito para utilizar instrucciones más \"genéricas\" y \"simples\", proporcionando una forma de ejecutarlo en hardware limitado o diferente. Esto suele hacerse internamente por qiskit para su ejecución."
      ]
    },
    {
      "cell_type": "code",
      "execution_count": null,
      "id": "0bb8d9a5",
      "metadata": {
        "id": "0bb8d9a5",
        "scrolled": false
      },
      "outputs": [],
      "source": [
        "qc = QuantumCircuit (3)\n",
        "qc.ccx (0,1,2)\n",
        "qc.decompose().draw (style={'backgroundcolor': '#EEEEEE'}, output='mpl') #D - OK, BUT DECOMPOSE"
      ]
    },
    {
      "cell_type": "markdown",
      "id": "fc47277c",
      "metadata": {
        "id": "fc47277c"
      },
      "source": [
        "## Ejemplo 12. Preparación para transpilación: Agrupación\n",
        "Es posible agrupar elementos y el objetivo es optimizar el trabajo del transpilador."
      ]
    },
    {
      "cell_type": "code",
      "execution_count": null,
      "id": "48a12246",
      "metadata": {
        "id": "48a12246"
      },
      "outputs": [],
      "source": [
        "from qiskit import QuantumRegister, ClassicalRegister, QuantumCircuit\n",
        "from qiskit.visualization import plot_bloch_multivector\n",
        "\n",
        "qc = QuantumCircuit(3, 3)\n",
        "qc.h(0)\n",
        "qc.barrier(0)\n",
        "qc.cx(0,1)\n",
        "qc.barrier([0,1])\n",
        "depth = qc.depth()\n",
        "print(depth)\n",
        "qc.draw(style={'backgroundcolor': '#EEEEEE'}, output='mpl')"
      ]
    },
    {
      "cell_type": "markdown",
      "id": "67cebb53",
      "metadata": {
        "id": "67cebb53"
      },
      "source": [
        "## Ejemplo 13. Código Qiskit a QASM.\n",
        "Todo el código QISKIT se convierte a un ensamblador llamado QASM. Este es el código real que se ejecuta en un hardware cúantico real."
      ]
    },
    {
      "cell_type": "code",
      "execution_count": null,
      "id": "5f780cca",
      "metadata": {
        "id": "5f780cca",
        "scrolled": false
      },
      "outputs": [],
      "source": [
        "from qiskit.qasm3 import *\n",
        "from qiskit.qasm3 import dumps\n",
        "qc = QuantumCircuit(1, 1)\n",
        "qc.h(0)\n",
        "qc.x(0)\n",
        "\n",
        "print(dumps(qc))"
      ]
    },
    {
      "cell_type": "markdown",
      "id": "cf9da7e0",
      "metadata": {
        "id": "cf9da7e0"
      },
      "source": [
        "## Ejemplo 14. Codigo QASM a Qiskit\n",
        "También es posible realizar la operación inversa, convirtiendo un código ensamblador en un conjunto de instrucciones de alto nivel de QISKIT."
      ]
    },
    {
      "cell_type": "code",
      "execution_count": null,
      "id": "311d15ba",
      "metadata": {
        "id": "311d15ba"
      },
      "outputs": [],
      "source": [
        "qasm_str = \"\"\"OPENQASM 2.0;\n",
        "include \"qelib1.inc\";\n",
        "qreg q[2];\n",
        "creg c[2];\n",
        "h q[0];\n",
        "cx q[0],q[1];\n",
        "measure q -> c;\n",
        "\"\"\"\n",
        "qc = QuantumCircuit.from_qasm_str(qasm_str)\n",
        "qc.draw(style={'backgroundcolor': '#EEEEEE'})"
      ]
    },
    {
      "cell_type": "markdown",
      "id": "4aa6a066",
      "metadata": {
        "id": "4aa6a066"
      },
      "source": [
        "## Ejemplo 15. Control y Bucles en Qiskit\n",
        "Podemos mezclar algunas declaraciones del lenguaje de programación tradicional para hacer un código más rico usando QISKIT"
      ]
    },
    {
      "cell_type": "code",
      "execution_count": null,
      "id": "043d2570",
      "metadata": {
        "id": "043d2570"
      },
      "outputs": [],
      "source": [
        "qreg = QuantumRegister(2)\n",
        "creg = ClassicalRegister(2)\n",
        "qc = QuantumCircuit(qreg, creg)\n",
        "with qc.switch(creg) as case:\n",
        "    with case(0):\n",
        "        qc.x(0)\n",
        "    with case(1):\n",
        "        qc.x(1)\n",
        "\n",
        "qasm_string = qasm3.dumps(qc, experimental=qasm3.ExperimentalFeatures.SWITCH_CASE_V1)\n",
        "print(qasm_string)"
      ]
    },
    {
      "cell_type": "markdown",
      "id": "49dbd21d",
      "metadata": {
        "id": "49dbd21d"
      },
      "source": [
        "## Ejemplo 16. Visualizaciones: QSphere.\n",
        "Qiskit tiene un amplio conjunto de representaciones visuales para proporcionar gráficos. El QSphere representa el statevector de cada estado del sistema cuantico junto con su fase."
      ]
    },
    {
      "cell_type": "code",
      "execution_count": null,
      "id": "07c921bc",
      "metadata": {
        "id": "07c921bc",
        "scrolled": true
      },
      "outputs": [],
      "source": [
        "qc = QuantumCircuit(2)\n",
        "qc.ry(math.pi, 0)\n",
        "qc.h(1)\n",
        "\n",
        "matrix = DensityMatrix(qc)\n",
        "plot_state_qsphere(matrix, show_state_phases = False, use_degrees = False)"
      ]
    },
    {
      "cell_type": "markdown",
      "id": "7ea73485",
      "metadata": {
        "id": "7ea73485"
      },
      "source": [
        "## Ejemplo 17. Visualizaciones: Histograma\n",
        "No sólo están disponibles representaciones individuales, sino también gráficos como histogramas para simular un grupo de ejecuciones."
      ]
    },
    {
      "cell_type": "code",
      "execution_count": null,
      "id": "bec1d9fb",
      "metadata": {
        "id": "bec1d9fb",
        "scrolled": true
      },
      "outputs": [],
      "source": [
        "qc = QuantumCircuit(2,2)\n",
        "qc.h(0)\n",
        "qc.h(1)\n",
        "qc.cx(0,1)\n",
        "\n",
        "circ.measure_all()\n",
        "\n",
        "simulator = BasicSimulator()\n",
        "result = simulator.run(circ).result()\n",
        "counts = result.get_counts()\n",
        "\n",
        "counts1 = {'00': 525, '11': 499}\n",
        "counts2 = {'00': 511, '11': 514}\n",
        "\n",
        "legend = ['First execution', 'second execution']\n",
        "\n",
        "#plot_histogram([counts], legend=legend, color=['crimson'],  title=\"Histograma\")\n",
        "plot_histogram([counts1, counts2], legend=legend, color=['crimson', 'midnightblue'], title=\"Histograma\")"
      ]
    },
    {
      "cell_type": "markdown",
      "id": "36e60710",
      "metadata": {
        "id": "36e60710"
      },
      "source": [
        "## Ejemplo 18. Visualizaciones: State City.\n",
        "*State City* es otro tipo de gráfica disponible para representar estados en un sistema de varios QUBITS."
      ]
    },
    {
      "cell_type": "code",
      "execution_count": null,
      "id": "54ba61ae",
      "metadata": {
        "id": "54ba61ae",
        "scrolled": true
      },
      "outputs": [],
      "source": [
        "qc = QuantumCircuit(2,2)\n",
        "qc.h(0)\n",
        "qc.h(1)\n",
        "qc.cx(0,1)\n",
        "qc.measure_all()\n",
        "\n",
        "# Current\n",
        "qc.remove_final_measurements()  # no measurements allowed\n",
        "statevector = Statevector(qc)\n",
        "plot_state_city(statevector)"
      ]
    },
    {
      "cell_type": "markdown",
      "id": "86ca0318",
      "metadata": {
        "id": "86ca0318"
      },
      "source": [
        "## Ejemplo 18. Representación de Statevector.\n",
        "Los estados se pueden imprimir (similar a la representación KET). Esto muestra el estado probabilístico de un QUBIT"
      ]
    },
    {
      "cell_type": "code",
      "execution_count": null,
      "id": "a0727327",
      "metadata": {
        "id": "a0727327"
      },
      "outputs": [],
      "source": [
        "from qiskit import QuantumCircuit\n",
        "from math import sqrt\n",
        "from qiskit.quantum_info import Statevector\n",
        "\n",
        "qc = QuantumCircuit(1)\n",
        "qc.h(0)\n",
        "# qc.h(1)\n",
        "# qc.cx(1, 2)\n",
        "qc.measure_all()\n",
        "\n",
        "qc.remove_final_measurements()\n",
        "statevector = Statevector(qc)\n",
        "print(statevector)"
      ]
    },
    {
      "cell_type": "markdown",
      "id": "e7773705",
      "metadata": {
        "id": "e7773705"
      },
      "source": [
        "## Ejemplo 19. Probabilidad del experimento\n",
        "Y también es posible mostrar los resultados probabilísticos para un conjunto de ejecuciones."
      ]
    },
    {
      "cell_type": "code",
      "execution_count": null,
      "id": "546d6c87",
      "metadata": {
        "id": "546d6c87"
      },
      "outputs": [],
      "source": [
        "from qiskit.providers.basic_provider import BasicSimulator\n",
        "from qiskit import QuantumCircuit\n",
        "\n",
        "circ = QuantumCircuit(1)\n",
        "circ.h(0)\n",
        "circ.measure_all()\n",
        "\n",
        "simulator = BasicSimulator()\n",
        "result = simulator.run(circ).result()\n",
        "counts = result.get_counts()\n",
        "print(counts)"
      ]
    },
    {
      "cell_type": "markdown",
      "source": [
        "# Ejemplo 20. (Avanzado) Algoritmo de Grover en un sistema cuantico real de IBM. Uso de Primitivos.\n",
        "\n",
        "#### Ver https://learning.quantum.ibm.com/tutorial/grovers-algorithm\n",
        "\n",
        "Para este ejercicio tienes que crear un IBM ID en el sitio https://quantum.ibm.com/account una vez que tengas tu cuenta creada usa la API Key en la variable \"token\" de este ejercicio."
      ],
      "metadata": {
        "id": "ay_FMv_TYgLY"
      },
      "id": "ay_FMv_TYgLY"
    },
    {
      "cell_type": "code",
      "source": [
        "# Toma tu token de (https://quantum.ibm.com/) copialo y ponlo entre comillas\n",
        "# en la variable token\n",
        "service = QiskitRuntimeService(channel=\"ibm_quantum\", token=\"<Tu_Token>\")"
      ],
      "metadata": {
        "id": "InVX23HzaJv_"
      },
      "id": "InVX23HzaJv_",
      "execution_count": null,
      "outputs": []
    },
    {
      "cell_type": "code",
      "source": [
        "# Elegimos el sistema cuántico menos utilizado de IBM para correr nuestro circuito\n",
        "backend = service.least_busy(operational=True, simulator=False)\n",
        "backend.name"
      ],
      "metadata": {
        "id": "Qo1HQefEZMRW"
      },
      "id": "Qo1HQefEZMRW",
      "execution_count": null,
      "outputs": []
    },
    {
      "cell_type": "code",
      "source": [
        "# Función para construir una función oráculo indicando estados en modo binario.\n",
        "# El oráculo es una forma de representar el problema que queremos resolver\n",
        "# y es expresada como un circuito.\n",
        "\n",
        "def grover_oracle(marked_states):\n",
        "    \"\"\"Construye el oráculo de Grover tomando estados marcados como\n",
        "    numeros binarios (los numeros\n",
        "    que quieres encontrar en una lista)\n",
        "\n",
        "    Se asume que los números tienen la misma cantidad de bits.\n",
        "\n",
        "    Parameters:\n",
        "        marked_states (str or list): Estados marcados del oráculo\n",
        "\n",
        "    Returns:\n",
        "        QuantumCircuit: El circuito que representa el oráculo de Grover.\n",
        "    \"\"\"\n",
        "    if not isinstance(marked_states, list):\n",
        "        marked_states = [marked_states]\n",
        "    # Compute the number of qubits in circuit\n",
        "    num_qubits = len(marked_states[0])\n",
        "\n",
        "    qc = QuantumCircuit(num_qubits)\n",
        "    # Mark each target state in the input list\n",
        "    for target in marked_states:\n",
        "        # Flip target bit-string to match Qiskit bit-ordering\n",
        "        rev_target = target[::-1]\n",
        "        # Find the indices of all the '0' elements in bit-string\n",
        "        zero_inds = [ind for ind in range(num_qubits) if rev_target.startswith(\"0\", ind)]\n",
        "        # Add a multi-controlled Z-gate with pre- and post-applied X-gates (open-controls)\n",
        "        # where the target bit-string has a '0' entry\n",
        "        qc.x(zero_inds)\n",
        "        qc.compose(MCMT(ZGate(), num_qubits - 1, 1), inplace=True)\n",
        "        qc.x(zero_inds)\n",
        "    return qc"
      ],
      "metadata": {
        "id": "g7hiGds8b9Re"
      },
      "id": "g7hiGds8b9Re",
      "execution_count": null,
      "outputs": []
    },
    {
      "cell_type": "code",
      "source": [
        "# Creamos el oráculo para los números que quiero encontrar\n",
        "\n",
        "marked_states = [\"011\", \"100\"]\n",
        "\n",
        "oracle = grover_oracle(marked_states)\n",
        "oracle.draw(output=\"mpl\", style=\"iqp\")"
      ],
      "metadata": {
        "id": "iUbCaiOIdHN3"
      },
      "id": "iUbCaiOIdHN3",
      "execution_count": null,
      "outputs": []
    },
    {
      "cell_type": "code",
      "source": [
        "# Usamos una librería de Qiskit que toma el oráculo generado y crea un circuito\n",
        "# que ayudará a amplificar los estados marcados. Usamos la descomposición que\n",
        "# mostramos antes para ver el circuito resultante\n",
        "\n",
        "grover_op = GroverOperator(oracle)\n",
        "#grover_op.decompose().draw(output=\"mpl\", style=\"iqp\")"
      ],
      "metadata": {
        "id": "NAsQU2IldIgO"
      },
      "id": "NAsQU2IldIgO",
      "execution_count": null,
      "outputs": []
    },
    {
      "cell_type": "code",
      "source": [
        "# Buscamos la cantidad de iteraciones que debemos ejecutar el circuito para\n",
        "# encontrar los estados marcados.\n",
        "\n",
        "optimal_num_iterations = math.floor(\n",
        "    math.pi / (4 * math.asin(math.sqrt(len(marked_states) / 2**grover_op.num_qubits)))\n",
        ")\n",
        "optimal_num_iterations"
      ],
      "metadata": {
        "id": "H25b4zOgdmW5"
      },
      "id": "H25b4zOgdmW5",
      "execution_count": null,
      "outputs": []
    },
    {
      "cell_type": "code",
      "source": [
        "# Creamos el circuito completo\n",
        "\n",
        "qc = QuantumCircuit(grover_op.num_qubits)\n",
        "# Empezamos superponiendo todos los qubits con compuertas H\n",
        "qc.h(range(grover_op.num_qubits))\n",
        "# Aplicamos el operador las veces indicadas.\n",
        "qc.compose(grover_op.power(optimal_num_iterations), inplace=True)\n",
        "# Medimos todos los qubits\n",
        "qc.measure_all()\n",
        "qc.draw(output=\"mpl\", style=\"iqp\")"
      ],
      "metadata": {
        "id": "1jP0rdf3eRBA"
      },
      "id": "1jP0rdf3eRBA",
      "execution_count": null,
      "outputs": []
    },
    {
      "cell_type": "code",
      "source": [
        "# Optimizamos el circuito para el sistema cuántico donde vamos a ejecutarlo\n",
        "from qiskit.transpiler.preset_passmanagers import generate_preset_pass_manager\n",
        "\n",
        "target = backend.target\n",
        "pm = generate_preset_pass_manager(target=target, optimization_level=3)\n",
        "\n",
        "circuit_isa = pm.run(qc)\n",
        "circuit_isa.draw(output=\"mpl\", idle_wires=False, style=\"iqp\")"
      ],
      "metadata": {
        "id": "VK4U3hFrexjF"
      },
      "id": "VK4U3hFrexjF",
      "execution_count": null,
      "outputs": []
    },
    {
      "cell_type": "code",
      "source": [
        "# Usamos primitivos de Qiskit Runtime para simplificar el código y la ejecución.\n",
        "# En este caso uno de tipo Sampler. El problema de amplificación de amplitudes\n",
        "# es en escencia un problema de muestreo.\n",
        "sampler = Sampler(mode=backend)\n",
        "sampler.options.default_shots = 10_000\n",
        "result = sampler.run([circuit_isa]).result()\n",
        "dist = result[0].data.meas.get_counts()"
      ],
      "metadata": {
        "id": "ZlrhGH7CfYPT"
      },
      "id": "ZlrhGH7CfYPT",
      "execution_count": null,
      "outputs": []
    },
    {
      "cell_type": "code",
      "source": [
        "# Presentamos resultados\n",
        "plot_distribution(dist)"
      ],
      "metadata": {
        "id": "X0shrVkLgaLU"
      },
      "id": "X0shrVkLgaLU",
      "execution_count": null,
      "outputs": []
    },
    {
      "cell_type": "code",
      "source": [],
      "metadata": {
        "id": "I7XJXR3xhATp"
      },
      "id": "I7XJXR3xhATp",
      "execution_count": null,
      "outputs": []
    }
  ],
  "metadata": {
    "colab": {
      "provenance": []
    },
    "kernelspec": {
      "display_name": "Python 3 (ipykernel)",
      "language": "python",
      "name": "python3"
    },
    "language_info": {
      "codemirror_mode": {
        "name": "ipython",
        "version": 3
      },
      "file_extension": ".py",
      "mimetype": "text/x-python",
      "name": "python",
      "nbconvert_exporter": "python",
      "pygments_lexer": "ipython3",
      "version": "3.11.9"
    }
  },
  "nbformat": 4,
  "nbformat_minor": 5
}